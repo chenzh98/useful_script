{
 "cells": [
  {
   "cell_type": "code",
   "execution_count": 25,
   "metadata": {},
   "outputs": [],
   "source": [
    "import PyPDF2\n",
    "import os\n",
    "import re\n",
    "mypath = 'H:\\附件'"
   ]
  },
  {
   "cell_type": "code",
   "execution_count": 26,
   "metadata": {},
   "outputs": [],
   "source": [
    "def mergePdf(mypath):\n",
    "    # find all the pdf files in current directory.\n",
    "    pattern = r\"\\.pdf$\"\n",
    "    file_names_lst = [mypath + \"\\\\\" + f for f in os.listdir(mypath) if re.search(pattern, f, re.IGNORECASE) \n",
    "    and not re.search(r'Merged.pdf',f)]\n",
    "    #print(os.listdir(mypath))\n",
    "\n",
    "    # merge the file.\n",
    "    opened_file = [open(file_name,'rb') for file_name in file_names_lst]\n",
    "    pdfFM = PyPDF2.PdfFileMerger()\n",
    "    for file in opened_file:\n",
    "        pdfFM.append(file)\n",
    "\n",
    "    # output the file.\n",
    "    with open(mypath + \"\\\\Merged.pdf\", 'wb') as write_out_file:\n",
    "        pdfFM.write(write_out_file)\n",
    "\n",
    "    # close all the input files.\n",
    "    for file in opened_file:\n",
    "        file.close()"
   ]
  },
  {
   "cell_type": "code",
   "execution_count": 27,
   "metadata": {},
   "outputs": [],
   "source": [
    "def splitPdf(mypath, filename):\n",
    "    readFile = mypath + \"\\\\\" + filename\n",
    "\n",
    "    # 获取 PdfFileReader 对象\n",
    "    file = open(readFile, 'rb')\n",
    "    pdfFileReader = PyPDF2.PdfFileReader(file)\n",
    "    # 文档总页数\n",
    "    numPages = pdfFileReader.getNumPages()\n",
    "\n",
    "    for index in range(numPages):\n",
    "        pageObj = pdfFileReader.getPage(index)\n",
    "        pdfFW = PyPDF2.PdfFileWriter()\n",
    "        pdfFW.addPage(pageObj)\n",
    "        with open(mypath + '\\\\' + str(index) + '.pdf', 'wb') as write_out_file:\n",
    "            pdfFW.write(write_out_file)\n",
    "    file.close()"
   ]
  },
  {
   "cell_type": "code",
   "execution_count": null,
   "metadata": {},
   "outputs": [],
   "source": []
  }
 ],
 "metadata": {
  "kernelspec": {
   "display_name": "Python 3",
   "language": "python",
   "name": "python3"
  },
  "language_info": {
   "codemirror_mode": {
    "name": "ipython",
    "version": 3
   },
   "file_extension": ".py",
   "mimetype": "text/x-python",
   "name": "python",
   "nbconvert_exporter": "python",
   "pygments_lexer": "ipython3",
   "version": "3.7.3"
  }
 },
 "nbformat": 4,
 "nbformat_minor": 2
}
